{
 "cells": [
  {
   "cell_type": "markdown",
   "metadata": {},
   "source": [
    "## Analysis of a CHDI dataset\n",
    "\n",
    "**Author:** Leonardo Espin\n",
    "\n",
    "**Date:** August 8, 2019\n",
    "\n",
    "* First I will load all the libraries I will use for the exploratory data analysis"
   ]
  },
  {
   "cell_type": "code",
   "execution_count": 4,
   "metadata": {},
   "outputs": [],
   "source": [
    "import pandas as pd\n",
    "import numpy as np\n",
    "import seaborn as sns\n",
    "import matplotlib.pyplot as plt\n",
    "%matplotlib inline\n",
    "\n",
    "pd.set_option('display.max_columns', 35)\n",
    "#the lines below get rid of the plotting library warnings\n",
    "import warnings\n",
    "warnings.filterwarnings(\"ignore\")"
   ]
  },
  {
   "cell_type": "markdown",
   "metadata": {},
   "source": [
    "* Next I will read the data into a dataframe, print the size of the dataset, the first few lines of data and the types of variables"
   ]
  },
  {
   "cell_type": "code",
   "execution_count": 111,
   "metadata": {},
   "outputs": [
    {
     "name": "stdout",
     "output_type": "stream",
     "text": [
      "(284807, 30)\n",
      "V1       float64\n",
      "V2       float64\n",
      "V3       float64\n",
      "V4       float64\n",
      "V5       float64\n",
      "V6       float64\n",
      "V7       float64\n",
      "V8       float64\n",
      "V9       float64\n",
      "V10      float64\n",
      "V11      float64\n",
      "V12      float64\n",
      "V13      float64\n",
      "V14      float64\n",
      "V15      float64\n",
      "V16      float64\n",
      "V17      float64\n",
      "V18      float64\n",
      "V19      float64\n",
      "V20      float64\n",
      "V21      float64\n",
      "V22      float64\n",
      "V23      float64\n",
      "V24      float64\n",
      "V25      float64\n",
      "V26      float64\n",
      "V27      float64\n",
      "V28      float64\n",
      "V29      float64\n",
      "Class      int64\n",
      "dtype: object\n"
     ]
    },
    {
     "data": {
      "text/html": [
       "<div>\n",
       "<style scoped>\n",
       "    .dataframe tbody tr th:only-of-type {\n",
       "        vertical-align: middle;\n",
       "    }\n",
       "\n",
       "    .dataframe tbody tr th {\n",
       "        vertical-align: top;\n",
       "    }\n",
       "\n",
       "    .dataframe thead th {\n",
       "        text-align: right;\n",
       "    }\n",
       "</style>\n",
       "<table border=\"1\" class=\"dataframe\">\n",
       "  <thead>\n",
       "    <tr style=\"text-align: right;\">\n",
       "      <th></th>\n",
       "      <th>V1</th>\n",
       "      <th>V2</th>\n",
       "      <th>V3</th>\n",
       "      <th>V4</th>\n",
       "      <th>V5</th>\n",
       "      <th>V6</th>\n",
       "      <th>V7</th>\n",
       "      <th>V8</th>\n",
       "      <th>V9</th>\n",
       "      <th>V10</th>\n",
       "      <th>V11</th>\n",
       "      <th>V12</th>\n",
       "      <th>V13</th>\n",
       "      <th>V14</th>\n",
       "      <th>V15</th>\n",
       "      <th>V16</th>\n",
       "      <th>V17</th>\n",
       "      <th>V18</th>\n",
       "      <th>V19</th>\n",
       "      <th>V20</th>\n",
       "      <th>V21</th>\n",
       "      <th>V22</th>\n",
       "      <th>V23</th>\n",
       "      <th>V24</th>\n",
       "      <th>V25</th>\n",
       "      <th>V26</th>\n",
       "      <th>V27</th>\n",
       "      <th>V28</th>\n",
       "      <th>V29</th>\n",
       "      <th>Class</th>\n",
       "    </tr>\n",
       "  </thead>\n",
       "  <tbody>\n",
       "    <tr>\n",
       "      <th>0</th>\n",
       "      <td>NaN</td>\n",
       "      <td>-0.072781</td>\n",
       "      <td>2.536347</td>\n",
       "      <td>NaN</td>\n",
       "      <td>-0.338321</td>\n",
       "      <td>0.462388</td>\n",
       "      <td>NaN</td>\n",
       "      <td>0.098698</td>\n",
       "      <td>0.363787</td>\n",
       "      <td>0.090794</td>\n",
       "      <td>-0.551600</td>\n",
       "      <td>-0.617801</td>\n",
       "      <td>-0.991390</td>\n",
       "      <td>-0.311169</td>\n",
       "      <td>1.468177</td>\n",
       "      <td>-0.470401</td>\n",
       "      <td>NaN</td>\n",
       "      <td>0.025791</td>\n",
       "      <td>0.403993</td>\n",
       "      <td>0.251412</td>\n",
       "      <td>-0.018307</td>\n",
       "      <td>0.277838</td>\n",
       "      <td>-0.110474</td>\n",
       "      <td>0.066928</td>\n",
       "      <td>0.128539</td>\n",
       "      <td>-0.189115</td>\n",
       "      <td>NaN</td>\n",
       "      <td>-0.021053</td>\n",
       "      <td>149.62</td>\n",
       "      <td>0</td>\n",
       "    </tr>\n",
       "    <tr>\n",
       "      <th>1</th>\n",
       "      <td>1.191857</td>\n",
       "      <td>0.266151</td>\n",
       "      <td>0.166480</td>\n",
       "      <td>0.448154</td>\n",
       "      <td>0.060018</td>\n",
       "      <td>-0.082361</td>\n",
       "      <td>-0.078803</td>\n",
       "      <td>0.085102</td>\n",
       "      <td>NaN</td>\n",
       "      <td>-0.166974</td>\n",
       "      <td>NaN</td>\n",
       "      <td>1.065235</td>\n",
       "      <td>NaN</td>\n",
       "      <td>-0.143772</td>\n",
       "      <td>0.635558</td>\n",
       "      <td>0.463917</td>\n",
       "      <td>-0.114805</td>\n",
       "      <td>-0.183361</td>\n",
       "      <td>-0.145783</td>\n",
       "      <td>NaN</td>\n",
       "      <td>-0.225775</td>\n",
       "      <td>-0.638672</td>\n",
       "      <td>NaN</td>\n",
       "      <td>-0.339846</td>\n",
       "      <td>0.167170</td>\n",
       "      <td>0.125895</td>\n",
       "      <td>-0.008983</td>\n",
       "      <td>0.014724</td>\n",
       "      <td>2.69</td>\n",
       "      <td>0</td>\n",
       "    </tr>\n",
       "    <tr>\n",
       "      <th>2</th>\n",
       "      <td>-1.358354</td>\n",
       "      <td>-1.340163</td>\n",
       "      <td>1.773209</td>\n",
       "      <td>0.379780</td>\n",
       "      <td>-0.503198</td>\n",
       "      <td>1.800499</td>\n",
       "      <td>0.791461</td>\n",
       "      <td>0.247676</td>\n",
       "      <td>-1.514654</td>\n",
       "      <td>0.207643</td>\n",
       "      <td>0.624501</td>\n",
       "      <td>0.066084</td>\n",
       "      <td>0.717293</td>\n",
       "      <td>-0.165946</td>\n",
       "      <td>2.345865</td>\n",
       "      <td>-2.890083</td>\n",
       "      <td>1.109969</td>\n",
       "      <td>-0.121359</td>\n",
       "      <td>-2.261857</td>\n",
       "      <td>0.524980</td>\n",
       "      <td>0.247998</td>\n",
       "      <td>0.771679</td>\n",
       "      <td>0.909412</td>\n",
       "      <td>NaN</td>\n",
       "      <td>-0.327642</td>\n",
       "      <td>-0.139097</td>\n",
       "      <td>-0.055353</td>\n",
       "      <td>-0.059752</td>\n",
       "      <td>378.66</td>\n",
       "      <td>0</td>\n",
       "    </tr>\n",
       "    <tr>\n",
       "      <th>3</th>\n",
       "      <td>-0.966272</td>\n",
       "      <td>-0.185226</td>\n",
       "      <td>1.792993</td>\n",
       "      <td>-0.863291</td>\n",
       "      <td>-0.010309</td>\n",
       "      <td>1.247203</td>\n",
       "      <td>0.237609</td>\n",
       "      <td>0.377436</td>\n",
       "      <td>-1.387024</td>\n",
       "      <td>-0.054952</td>\n",
       "      <td>-0.226487</td>\n",
       "      <td>0.178228</td>\n",
       "      <td>0.507757</td>\n",
       "      <td>-0.287924</td>\n",
       "      <td>-0.631418</td>\n",
       "      <td>-1.059647</td>\n",
       "      <td>-0.684093</td>\n",
       "      <td>1.965775</td>\n",
       "      <td>-1.232622</td>\n",
       "      <td>-0.208038</td>\n",
       "      <td>-0.108300</td>\n",
       "      <td>0.005274</td>\n",
       "      <td>-0.190321</td>\n",
       "      <td>-1.175575</td>\n",
       "      <td>0.647376</td>\n",
       "      <td>-0.221929</td>\n",
       "      <td>0.062723</td>\n",
       "      <td>0.061458</td>\n",
       "      <td>123.50</td>\n",
       "      <td>0</td>\n",
       "    </tr>\n",
       "    <tr>\n",
       "      <th>4</th>\n",
       "      <td>-1.158233</td>\n",
       "      <td>0.877737</td>\n",
       "      <td>1.548718</td>\n",
       "      <td>0.403034</td>\n",
       "      <td>-0.407193</td>\n",
       "      <td>0.095921</td>\n",
       "      <td>NaN</td>\n",
       "      <td>-0.270533</td>\n",
       "      <td>0.817739</td>\n",
       "      <td>0.753074</td>\n",
       "      <td>-0.822843</td>\n",
       "      <td>0.538196</td>\n",
       "      <td>1.345852</td>\n",
       "      <td>-1.119670</td>\n",
       "      <td>NaN</td>\n",
       "      <td>-0.451449</td>\n",
       "      <td>NaN</td>\n",
       "      <td>-0.038195</td>\n",
       "      <td>0.803487</td>\n",
       "      <td>0.408542</td>\n",
       "      <td>-0.009431</td>\n",
       "      <td>0.798278</td>\n",
       "      <td>-0.137458</td>\n",
       "      <td>0.141267</td>\n",
       "      <td>-0.206010</td>\n",
       "      <td>0.502292</td>\n",
       "      <td>0.219422</td>\n",
       "      <td>0.215153</td>\n",
       "      <td>69.99</td>\n",
       "      <td>0</td>\n",
       "    </tr>\n",
       "  </tbody>\n",
       "</table>\n",
       "</div>"
      ],
      "text/plain": [
       "         V1        V2        V3        V4        V5        V6        V7  \\\n",
       "0       NaN -0.072781  2.536347       NaN -0.338321  0.462388       NaN   \n",
       "1  1.191857  0.266151  0.166480  0.448154  0.060018 -0.082361 -0.078803   \n",
       "2 -1.358354 -1.340163  1.773209  0.379780 -0.503198  1.800499  0.791461   \n",
       "3 -0.966272 -0.185226  1.792993 -0.863291 -0.010309  1.247203  0.237609   \n",
       "4 -1.158233  0.877737  1.548718  0.403034 -0.407193  0.095921       NaN   \n",
       "\n",
       "         V8        V9       V10       V11       V12       V13       V14  \\\n",
       "0  0.098698  0.363787  0.090794 -0.551600 -0.617801 -0.991390 -0.311169   \n",
       "1  0.085102       NaN -0.166974       NaN  1.065235       NaN -0.143772   \n",
       "2  0.247676 -1.514654  0.207643  0.624501  0.066084  0.717293 -0.165946   \n",
       "3  0.377436 -1.387024 -0.054952 -0.226487  0.178228  0.507757 -0.287924   \n",
       "4 -0.270533  0.817739  0.753074 -0.822843  0.538196  1.345852 -1.119670   \n",
       "\n",
       "        V15       V16       V17       V18       V19       V20       V21  \\\n",
       "0  1.468177 -0.470401       NaN  0.025791  0.403993  0.251412 -0.018307   \n",
       "1  0.635558  0.463917 -0.114805 -0.183361 -0.145783       NaN -0.225775   \n",
       "2  2.345865 -2.890083  1.109969 -0.121359 -2.261857  0.524980  0.247998   \n",
       "3 -0.631418 -1.059647 -0.684093  1.965775 -1.232622 -0.208038 -0.108300   \n",
       "4       NaN -0.451449       NaN -0.038195  0.803487  0.408542 -0.009431   \n",
       "\n",
       "        V22       V23       V24       V25       V26       V27       V28  \\\n",
       "0  0.277838 -0.110474  0.066928  0.128539 -0.189115       NaN -0.021053   \n",
       "1 -0.638672       NaN -0.339846  0.167170  0.125895 -0.008983  0.014724   \n",
       "2  0.771679  0.909412       NaN -0.327642 -0.139097 -0.055353 -0.059752   \n",
       "3  0.005274 -0.190321 -1.175575  0.647376 -0.221929  0.062723  0.061458   \n",
       "4  0.798278 -0.137458  0.141267 -0.206010  0.502292  0.219422  0.215153   \n",
       "\n",
       "      V29  Class  \n",
       "0  149.62      0  \n",
       "1    2.69      0  \n",
       "2  378.66      0  \n",
       "3  123.50      0  \n",
       "4   69.99      0  "
      ]
     },
     "execution_count": 111,
     "metadata": {},
     "output_type": "execute_result"
    }
   ],
   "source": [
    "raw=pd.read_csv('data_challenge_dataset.csv')\n",
    "print(raw.shape)\n",
    "print(raw.dtypes)\n",
    "raw.head()"
   ]
  },
  {
   "cell_type": "markdown",
   "metadata": {},
   "source": [
    "### Exploratory data analysis (EDA)\n",
    "* First I print summary statistics of the dataset"
   ]
  },
  {
   "cell_type": "code",
   "execution_count": 6,
   "metadata": {},
   "outputs": [
    {
     "data": {
      "text/html": [
       "<div>\n",
       "<style scoped>\n",
       "    .dataframe tbody tr th:only-of-type {\n",
       "        vertical-align: middle;\n",
       "    }\n",
       "\n",
       "    .dataframe tbody tr th {\n",
       "        vertical-align: top;\n",
       "    }\n",
       "\n",
       "    .dataframe thead th {\n",
       "        text-align: right;\n",
       "    }\n",
       "</style>\n",
       "<table border=\"1\" class=\"dataframe\">\n",
       "  <thead>\n",
       "    <tr style=\"text-align: right;\">\n",
       "      <th></th>\n",
       "      <th>V1</th>\n",
       "      <th>V2</th>\n",
       "      <th>V3</th>\n",
       "      <th>V4</th>\n",
       "      <th>V5</th>\n",
       "      <th>V6</th>\n",
       "      <th>V7</th>\n",
       "      <th>V8</th>\n",
       "      <th>V9</th>\n",
       "      <th>V10</th>\n",
       "      <th>V11</th>\n",
       "      <th>V12</th>\n",
       "      <th>V13</th>\n",
       "      <th>V14</th>\n",
       "      <th>V15</th>\n",
       "      <th>V16</th>\n",
       "      <th>V17</th>\n",
       "      <th>V18</th>\n",
       "      <th>V19</th>\n",
       "      <th>V20</th>\n",
       "      <th>V21</th>\n",
       "      <th>V22</th>\n",
       "      <th>V23</th>\n",
       "      <th>V24</th>\n",
       "      <th>V25</th>\n",
       "      <th>V26</th>\n",
       "      <th>V27</th>\n",
       "      <th>V28</th>\n",
       "      <th>V29</th>\n",
       "      <th>Class</th>\n",
       "    </tr>\n",
       "  </thead>\n",
       "  <tbody>\n",
       "    <tr>\n",
       "      <th>count</th>\n",
       "      <td>256327.000000</td>\n",
       "      <td>256327.000000</td>\n",
       "      <td>256327.000000</td>\n",
       "      <td>256327.000000</td>\n",
       "      <td>256327.000000</td>\n",
       "      <td>256327.000000</td>\n",
       "      <td>256327.000000</td>\n",
       "      <td>256327.000000</td>\n",
       "      <td>256327.000000</td>\n",
       "      <td>256327.000000</td>\n",
       "      <td>256327.000000</td>\n",
       "      <td>256327.000000</td>\n",
       "      <td>256327.000000</td>\n",
       "      <td>256327.000000</td>\n",
       "      <td>256327.000000</td>\n",
       "      <td>256327.000000</td>\n",
       "      <td>256327.000000</td>\n",
       "      <td>256327.000000</td>\n",
       "      <td>256327.000000</td>\n",
       "      <td>256327.000000</td>\n",
       "      <td>256327.000000</td>\n",
       "      <td>256327.000000</td>\n",
       "      <td>256327.000000</td>\n",
       "      <td>256327.000000</td>\n",
       "      <td>256327.000000</td>\n",
       "      <td>256327.000000</td>\n",
       "      <td>256327.000000</td>\n",
       "      <td>256327.000000</td>\n",
       "      <td>256327.000000</td>\n",
       "      <td>284807.000000</td>\n",
       "    </tr>\n",
       "    <tr>\n",
       "      <th>mean</th>\n",
       "      <td>-0.001855</td>\n",
       "      <td>0.001016</td>\n",
       "      <td>0.000476</td>\n",
       "      <td>0.000029</td>\n",
       "      <td>0.000192</td>\n",
       "      <td>0.000221</td>\n",
       "      <td>-0.000832</td>\n",
       "      <td>0.001599</td>\n",
       "      <td>-0.001070</td>\n",
       "      <td>-0.001081</td>\n",
       "      <td>0.000246</td>\n",
       "      <td>-0.000274</td>\n",
       "      <td>0.000800</td>\n",
       "      <td>0.000019</td>\n",
       "      <td>-0.000632</td>\n",
       "      <td>-0.000546</td>\n",
       "      <td>-0.000080</td>\n",
       "      <td>0.000083</td>\n",
       "      <td>-0.000345</td>\n",
       "      <td>-0.000258</td>\n",
       "      <td>0.000373</td>\n",
       "      <td>-0.000521</td>\n",
       "      <td>0.000435</td>\n",
       "      <td>0.000242</td>\n",
       "      <td>-0.000116</td>\n",
       "      <td>-0.000088</td>\n",
       "      <td>0.000086</td>\n",
       "      <td>0.000153</td>\n",
       "      <td>88.463396</td>\n",
       "      <td>0.001727</td>\n",
       "    </tr>\n",
       "    <tr>\n",
       "      <th>std</th>\n",
       "      <td>1.957926</td>\n",
       "      <td>1.651584</td>\n",
       "      <td>1.519391</td>\n",
       "      <td>1.417511</td>\n",
       "      <td>1.378669</td>\n",
       "      <td>1.332159</td>\n",
       "      <td>1.241105</td>\n",
       "      <td>1.187431</td>\n",
       "      <td>1.099997</td>\n",
       "      <td>1.085192</td>\n",
       "      <td>1.019877</td>\n",
       "      <td>1.000322</td>\n",
       "      <td>0.995882</td>\n",
       "      <td>0.955731</td>\n",
       "      <td>0.915411</td>\n",
       "      <td>0.876783</td>\n",
       "      <td>0.850534</td>\n",
       "      <td>0.838474</td>\n",
       "      <td>0.814060</td>\n",
       "      <td>0.772639</td>\n",
       "      <td>0.733762</td>\n",
       "      <td>0.725003</td>\n",
       "      <td>0.618081</td>\n",
       "      <td>0.605657</td>\n",
       "      <td>0.521329</td>\n",
       "      <td>0.482607</td>\n",
       "      <td>0.397504</td>\n",
       "      <td>0.330702</td>\n",
       "      <td>248.040629</td>\n",
       "      <td>0.041527</td>\n",
       "    </tr>\n",
       "    <tr>\n",
       "      <th>min</th>\n",
       "      <td>-56.407510</td>\n",
       "      <td>-72.715728</td>\n",
       "      <td>-48.325589</td>\n",
       "      <td>-5.683171</td>\n",
       "      <td>-113.743307</td>\n",
       "      <td>-21.929312</td>\n",
       "      <td>-43.557242</td>\n",
       "      <td>-73.216718</td>\n",
       "      <td>-13.434066</td>\n",
       "      <td>-24.588262</td>\n",
       "      <td>-4.797473</td>\n",
       "      <td>-18.683715</td>\n",
       "      <td>-5.791881</td>\n",
       "      <td>-18.493773</td>\n",
       "      <td>-4.498945</td>\n",
       "      <td>-14.129855</td>\n",
       "      <td>-25.162799</td>\n",
       "      <td>-9.498746</td>\n",
       "      <td>-7.213527</td>\n",
       "      <td>-54.497720</td>\n",
       "      <td>-34.830382</td>\n",
       "      <td>-10.933144</td>\n",
       "      <td>-44.807735</td>\n",
       "      <td>-2.836627</td>\n",
       "      <td>-10.295397</td>\n",
       "      <td>-2.604551</td>\n",
       "      <td>-22.565679</td>\n",
       "      <td>-15.430084</td>\n",
       "      <td>0.000000</td>\n",
       "      <td>0.000000</td>\n",
       "    </tr>\n",
       "    <tr>\n",
       "      <th>25%</th>\n",
       "      <td>-0.920793</td>\n",
       "      <td>-0.598073</td>\n",
       "      <td>-0.888388</td>\n",
       "      <td>-0.848423</td>\n",
       "      <td>-0.692812</td>\n",
       "      <td>-0.768247</td>\n",
       "      <td>-0.553502</td>\n",
       "      <td>-0.208516</td>\n",
       "      <td>-0.644112</td>\n",
       "      <td>-0.535903</td>\n",
       "      <td>-0.761755</td>\n",
       "      <td>-0.406160</td>\n",
       "      <td>-0.647872</td>\n",
       "      <td>-0.426090</td>\n",
       "      <td>-0.583406</td>\n",
       "      <td>-0.469167</td>\n",
       "      <td>-0.483949</td>\n",
       "      <td>-0.498586</td>\n",
       "      <td>-0.456986</td>\n",
       "      <td>-0.211756</td>\n",
       "      <td>-0.228512</td>\n",
       "      <td>-0.542946</td>\n",
       "      <td>-0.161762</td>\n",
       "      <td>-0.354556</td>\n",
       "      <td>-0.317167</td>\n",
       "      <td>-0.327224</td>\n",
       "      <td>-0.070878</td>\n",
       "      <td>-0.052945</td>\n",
       "      <td>5.640000</td>\n",
       "      <td>0.000000</td>\n",
       "    </tr>\n",
       "    <tr>\n",
       "      <th>50%</th>\n",
       "      <td>0.015389</td>\n",
       "      <td>0.065034</td>\n",
       "      <td>0.179871</td>\n",
       "      <td>-0.018836</td>\n",
       "      <td>-0.055993</td>\n",
       "      <td>-0.273935</td>\n",
       "      <td>0.039835</td>\n",
       "      <td>0.022608</td>\n",
       "      <td>-0.052607</td>\n",
       "      <td>-0.092313</td>\n",
       "      <td>-0.031499</td>\n",
       "      <td>0.139847</td>\n",
       "      <td>-0.013511</td>\n",
       "      <td>0.050509</td>\n",
       "      <td>0.047068</td>\n",
       "      <td>0.066032</td>\n",
       "      <td>-0.065844</td>\n",
       "      <td>-0.003976</td>\n",
       "      <td>0.003502</td>\n",
       "      <td>-0.062298</td>\n",
       "      <td>-0.029669</td>\n",
       "      <td>0.006540</td>\n",
       "      <td>-0.011011</td>\n",
       "      <td>0.041439</td>\n",
       "      <td>0.015954</td>\n",
       "      <td>-0.052294</td>\n",
       "      <td>0.001296</td>\n",
       "      <td>0.011181</td>\n",
       "      <td>22.000000</td>\n",
       "      <td>0.000000</td>\n",
       "    </tr>\n",
       "    <tr>\n",
       "      <th>75%</th>\n",
       "      <td>1.315404</td>\n",
       "      <td>0.804324</td>\n",
       "      <td>1.028192</td>\n",
       "      <td>0.742473</td>\n",
       "      <td>0.611817</td>\n",
       "      <td>0.399117</td>\n",
       "      <td>0.569714</td>\n",
       "      <td>0.327949</td>\n",
       "      <td>0.595965</td>\n",
       "      <td>0.453653</td>\n",
       "      <td>0.739153</td>\n",
       "      <td>0.618166</td>\n",
       "      <td>0.663910</td>\n",
       "      <td>0.492511</td>\n",
       "      <td>0.648903</td>\n",
       "      <td>0.523268</td>\n",
       "      <td>0.399840</td>\n",
       "      <td>0.500827</td>\n",
       "      <td>0.458520</td>\n",
       "      <td>0.132837</td>\n",
       "      <td>0.186117</td>\n",
       "      <td>0.527516</td>\n",
       "      <td>0.147746</td>\n",
       "      <td>0.439527</td>\n",
       "      <td>0.350374</td>\n",
       "      <td>0.240773</td>\n",
       "      <td>0.090973</td>\n",
       "      <td>0.078202</td>\n",
       "      <td>77.000000</td>\n",
       "      <td>0.000000</td>\n",
       "    </tr>\n",
       "    <tr>\n",
       "      <th>max</th>\n",
       "      <td>2.454930</td>\n",
       "      <td>22.057729</td>\n",
       "      <td>9.382558</td>\n",
       "      <td>16.875344</td>\n",
       "      <td>34.801666</td>\n",
       "      <td>73.301626</td>\n",
       "      <td>120.589494</td>\n",
       "      <td>20.007208</td>\n",
       "      <td>15.594995</td>\n",
       "      <td>23.745136</td>\n",
       "      <td>12.018913</td>\n",
       "      <td>7.848392</td>\n",
       "      <td>7.126883</td>\n",
       "      <td>10.526766</td>\n",
       "      <td>8.877742</td>\n",
       "      <td>17.315112</td>\n",
       "      <td>9.253526</td>\n",
       "      <td>5.041069</td>\n",
       "      <td>5.591971</td>\n",
       "      <td>39.420904</td>\n",
       "      <td>27.202839</td>\n",
       "      <td>8.361985</td>\n",
       "      <td>22.528412</td>\n",
       "      <td>4.584549</td>\n",
       "      <td>7.519589</td>\n",
       "      <td>3.517346</td>\n",
       "      <td>12.152401</td>\n",
       "      <td>33.847808</td>\n",
       "      <td>19656.530000</td>\n",
       "      <td>1.000000</td>\n",
       "    </tr>\n",
       "  </tbody>\n",
       "</table>\n",
       "</div>"
      ],
      "text/plain": [
       "                  V1             V2             V3             V4  \\\n",
       "count  256327.000000  256327.000000  256327.000000  256327.000000   \n",
       "mean       -0.001855       0.001016       0.000476       0.000029   \n",
       "std         1.957926       1.651584       1.519391       1.417511   \n",
       "min       -56.407510     -72.715728     -48.325589      -5.683171   \n",
       "25%        -0.920793      -0.598073      -0.888388      -0.848423   \n",
       "50%         0.015389       0.065034       0.179871      -0.018836   \n",
       "75%         1.315404       0.804324       1.028192       0.742473   \n",
       "max         2.454930      22.057729       9.382558      16.875344   \n",
       "\n",
       "                  V5             V6             V7             V8  \\\n",
       "count  256327.000000  256327.000000  256327.000000  256327.000000   \n",
       "mean        0.000192       0.000221      -0.000832       0.001599   \n",
       "std         1.378669       1.332159       1.241105       1.187431   \n",
       "min      -113.743307     -21.929312     -43.557242     -73.216718   \n",
       "25%        -0.692812      -0.768247      -0.553502      -0.208516   \n",
       "50%        -0.055993      -0.273935       0.039835       0.022608   \n",
       "75%         0.611817       0.399117       0.569714       0.327949   \n",
       "max        34.801666      73.301626     120.589494      20.007208   \n",
       "\n",
       "                  V9            V10            V11            V12  \\\n",
       "count  256327.000000  256327.000000  256327.000000  256327.000000   \n",
       "mean       -0.001070      -0.001081       0.000246      -0.000274   \n",
       "std         1.099997       1.085192       1.019877       1.000322   \n",
       "min       -13.434066     -24.588262      -4.797473     -18.683715   \n",
       "25%        -0.644112      -0.535903      -0.761755      -0.406160   \n",
       "50%        -0.052607      -0.092313      -0.031499       0.139847   \n",
       "75%         0.595965       0.453653       0.739153       0.618166   \n",
       "max        15.594995      23.745136      12.018913       7.848392   \n",
       "\n",
       "                 V13            V14            V15            V16  \\\n",
       "count  256327.000000  256327.000000  256327.000000  256327.000000   \n",
       "mean        0.000800       0.000019      -0.000632      -0.000546   \n",
       "std         0.995882       0.955731       0.915411       0.876783   \n",
       "min        -5.791881     -18.493773      -4.498945     -14.129855   \n",
       "25%        -0.647872      -0.426090      -0.583406      -0.469167   \n",
       "50%        -0.013511       0.050509       0.047068       0.066032   \n",
       "75%         0.663910       0.492511       0.648903       0.523268   \n",
       "max         7.126883      10.526766       8.877742      17.315112   \n",
       "\n",
       "                 V17            V18            V19            V20  \\\n",
       "count  256327.000000  256327.000000  256327.000000  256327.000000   \n",
       "mean       -0.000080       0.000083      -0.000345      -0.000258   \n",
       "std         0.850534       0.838474       0.814060       0.772639   \n",
       "min       -25.162799      -9.498746      -7.213527     -54.497720   \n",
       "25%        -0.483949      -0.498586      -0.456986      -0.211756   \n",
       "50%        -0.065844      -0.003976       0.003502      -0.062298   \n",
       "75%         0.399840       0.500827       0.458520       0.132837   \n",
       "max         9.253526       5.041069       5.591971      39.420904   \n",
       "\n",
       "                 V21            V22            V23            V24  \\\n",
       "count  256327.000000  256327.000000  256327.000000  256327.000000   \n",
       "mean        0.000373      -0.000521       0.000435       0.000242   \n",
       "std         0.733762       0.725003       0.618081       0.605657   \n",
       "min       -34.830382     -10.933144     -44.807735      -2.836627   \n",
       "25%        -0.228512      -0.542946      -0.161762      -0.354556   \n",
       "50%        -0.029669       0.006540      -0.011011       0.041439   \n",
       "75%         0.186117       0.527516       0.147746       0.439527   \n",
       "max        27.202839       8.361985      22.528412       4.584549   \n",
       "\n",
       "                 V25            V26            V27            V28  \\\n",
       "count  256327.000000  256327.000000  256327.000000  256327.000000   \n",
       "mean       -0.000116      -0.000088       0.000086       0.000153   \n",
       "std         0.521329       0.482607       0.397504       0.330702   \n",
       "min       -10.295397      -2.604551     -22.565679     -15.430084   \n",
       "25%        -0.317167      -0.327224      -0.070878      -0.052945   \n",
       "50%         0.015954      -0.052294       0.001296       0.011181   \n",
       "75%         0.350374       0.240773       0.090973       0.078202   \n",
       "max         7.519589       3.517346      12.152401      33.847808   \n",
       "\n",
       "                 V29          Class  \n",
       "count  256327.000000  284807.000000  \n",
       "mean       88.463396       0.001727  \n",
       "std       248.040629       0.041527  \n",
       "min         0.000000       0.000000  \n",
       "25%         5.640000       0.000000  \n",
       "50%        22.000000       0.000000  \n",
       "75%        77.000000       0.000000  \n",
       "max     19656.530000       1.000000  "
      ]
     },
     "execution_count": 6,
     "metadata": {},
     "output_type": "execute_result"
    }
   ],
   "source": [
    "raw.describe()"
   ]
  },
  {
   "cell_type": "markdown",
   "metadata": {},
   "source": [
    "* Below I check for missing data, first along features, then across columns"
   ]
  },
  {
   "cell_type": "code",
   "execution_count": 164,
   "metadata": {},
   "outputs": [
    {
     "name": "stdout",
     "output_type": "stream",
     "text": [
      "V1       28480\n",
      "V2       28480\n",
      "V3       28480\n",
      "V4       28480\n",
      "V5       28480\n",
      "V6       28480\n",
      "V7       28480\n",
      "V8       28480\n",
      "V9       28480\n",
      "V10      28480\n",
      "V11      28480\n",
      "V12      28480\n",
      "V13      28480\n",
      "V14      28480\n",
      "V15      28480\n",
      "V16      28480\n",
      "V17      28480\n",
      "V18      28480\n",
      "V19      28480\n",
      "V20      28480\n",
      "V21      28480\n",
      "V22      28480\n",
      "V23      28480\n",
      "V24      28480\n",
      "V25      28480\n",
      "V26      28480\n",
      "V27      28480\n",
      "V28      28480\n",
      "V29      28480\n",
      "Class        0\n",
      "dtype: int64\n",
      "Percentage of missing data in each column: 10.0%\n"
     ]
    }
   ],
   "source": [
    "print(raw.isna().sum())\n",
    "print('Percentage of missing data in each column: {:.1f}%'.format(100*raw.V1.isna().sum()/len(raw)))"
   ]
  },
  {
   "cell_type": "markdown",
   "metadata": {},
   "source": [
    "Therefore, all the columns have exactly the same amount of missing data. Then, if we look across columns:"
   ]
  },
  {
   "cell_type": "code",
   "execution_count": 163,
   "metadata": {},
   "outputs": [
    {
     "name": "stdout",
     "output_type": "stream",
     "text": [
      "Percentage of rows with missing data: 95.3%\n"
     ]
    },
    {
     "data": {
      "image/png": "[encoded data removed]",
      "text/plain": [
       "<Figure size 1152x288 with 1 Axes>"
      ]
     },
     "metadata": {},
     "output_type": "display_data"
    }
   ],
   "source": [
    "naInRows=raw.isna().sum(axis=1)\n",
    "print('Percentage of rows with missing data: {:.1f}%'.format(100*len(raw[raw.isna().sum(axis=1)>0])/len(raw)))\n",
    "plt.figure(figsize=(16,4))\n",
    "naInRows.plot()\n",
    "plt.title('Missing data for each row', fontsize=14)\n",
    "plt.xlabel('Row number', fontsize=14)\n",
    "plt.ylabel('Number of missing', fontsize=14);"
   ]
  },
  {
   "cell_type": "markdown",
   "metadata": {},
   "source": [
    "* All the columns have the same number of missing values (10% of total)\n",
    "* Most rows have missing data, and the plot above shows that the missing data is more or less uniformly distributed along rows\n",
    "* Importantly, there are not missing values in the target column\n",
    "* I will use simple inputation before modeling the data, which I will explain in more detail in the modeling portion of the document\n",
    "* Below I inspect the distribution of the target variable:"
   ]
  },
  {
   "cell_type": "code",
   "execution_count": 15,
   "metadata": {},
   "outputs": [
    {
     "data": {
      "text/plain": [
       "0    284315\n",
       "1       492\n",
       "Name: Class, dtype: int64"
      ]
     },
     "execution_count": 15,
     "metadata": {},
     "output_type": "execute_result"
    }
   ],
   "source": [
    "raw.Class.value_counts()"
   ]
  },
  {
   "cell_type": "markdown",
   "metadata": {},
   "source": [
    "* So, this is a **heavily imbalanced dataset**\n",
    "* Now, I will inspect the distribution of individual variables, but before doing that I will partition the dataset into train/test portions and will keep the test portion untouched until I use it for testing the model I will create.\n",
    "* Notice that I use **stratified partitioning**, in order to maintain the proportions of the classification variable in the test and train portions of the dataset"
   ]
  },
  {
   "cell_type": "code",
   "execution_count": 23,
   "metadata": {},
   "outputs": [],
   "source": [
    "#Here I'm creating a list of features, and I separate the target variable\n",
    "features=list(raw.columns)\n",
    "target=features.pop()"
   ]
  },
  {
   "cell_type": "code",
   "execution_count": 38,
   "metadata": {},
   "outputs": [],
   "source": [
    "from sklearn.model_selection import train_test_split\n",
    "seed=491\n",
    "train,test = train_test_split(raw,test_size=0.3,random_state=seed,stratify=raw[target])"
   ]
  },
  {
   "cell_type": "code",
   "execution_count": 39,
   "metadata": {},
   "outputs": [
    {
     "name": "stdout",
     "output_type": "stream",
     "text": [
      "0    99.827451\n",
      "1     0.172549\n",
      "Name: Class, dtype: float64\n",
      "0    99.826785\n",
      "1     0.173215\n",
      "Name: Class, dtype: float64\n"
     ]
    }
   ],
   "source": [
    "#checking that the proportions have been maintained\n",
    "print(100*train[target].value_counts()/len(train))\n",
    "print(100*test[target].value_counts()/len(test))"
   ]
  },
  {
   "cell_type": "markdown",
   "metadata": {},
   "source": [
    "* Below I plot the histograms of all the individual features to have a sense of the distribution of each variable\n",
    "* Note that from this point on, **I will only use the train portion of the dataset for analysis and modeling. The test portion will only be used for testing a model**"
   ]
  },
  {
   "cell_type": "code",
   "execution_count": 37,
   "metadata": {},
   "outputs": [
    {
     "data": {
      "image/png": "[encoded data removed]",
      "text/plain": [
       "<Figure size 1152x1800 with 29 Axes>"
      ]
     },
     "metadata": {},
     "output_type": "display_data"
    }
   ],
   "source": [
    "plt.figure(figsize=(16,25))\n",
    "for i in range(len(features)):\n",
    "    plt.subplot(8, 4, i+1)\n",
    "    ax=sns.distplot(train[features[i]].dropna(),kde=False,rug=False)#NaN causes problems\n",
    "    ax.set_yscale('log')"
   ]
  },
  {
   "cell_type": "markdown",
   "metadata": {},
   "source": [
    "* All the variables have outliers (a few single values in the right or left tail of the count plots). Unfortunately, since the features are anonymous, it is difficult to guess the meaning of outlier values for each particular variable\n",
    "* Below I plot the distribution of features, segregated by the value of the target variable:"
   ]
  },
  {
   "cell_type": "code",
   "execution_count": 48,
   "metadata": {},
   "outputs": [],
   "source": [
    "def segregatedPlot(df,col,grouping='Class'):\n",
    "    '''conveniently making segregated plots'''\n",
    "    #plt.figure(figsize=(9,6))\n",
    "    sns.distplot(df.groupby(grouping)[col].get_group(0).dropna(),kde=False,rug=False, label=grouping.capitalize()+'=0');\n",
    "    ax=sns.distplot(df.groupby(grouping)[col].get_group(1).dropna(),kde=False,rug=False, label=grouping.capitalize()+'=1');\n",
    "    ax.set_yscale('log')\n",
    "    plt.legend();"
   ]
  },
  {
   "cell_type": "code",
   "execution_count": 49,
   "metadata": {},
   "outputs": [
    {
     "data": {
      "image/png": "[encoded data removed]",
      "text/plain": [
       "<Figure size 1152x2160 with 29 Axes>"
      ]
     },
     "metadata": {},
     "output_type": "display_data"
    }
   ],
   "source": [
    "plt.figure(figsize=(16,30))\n",
    "for i in range(len(features)):\n",
    "    plt.subplot(10, 3, i+1)\n",
    "    segregatedPlot(train,features[i])"
   ]
  },
  {
   "cell_type": "markdown",
   "metadata": {},
   "source": [
    "* The plots above are very illuminating with respect to what variables have might have more predictive power. Some of the variables show different distributions depending on the value of the class that a given row belongs to. I can see six different patterns in the plots above:\n",
    "\n",
    " 1. The target classification makes little difference in the distribution of a variable\n",
    " 2. The variable distribution shows a lower peak count for class 1 (V3)\n",
    " 3. The variable distribution shows a larger peak count for class 1 (V4)\n",
    " 4. Lower peak count and lower tail values (V9, V10, V12, V14, V16, V17)\n",
    " 5. Larger peak count and larger tail values (V11)\n",
    " 6. Lower tail values (V18)\n",
    "\n",
    "* Because of the apparent importance of tail values on the class distribution of the target variable, **I am not inclined to use classification methods that are sensitive to feature scaling** (like logistic regression). So **I will first try using decision trees and random forest, and see how well they perform on the the test data**. \n",
    "* Before start constructing a model, I inspect variable correlations below:"
   ]
  },
  {
   "cell_type": "code",
   "execution_count": 52,
   "metadata": {},
   "outputs": [
    {
     "data": {
      "image/png": "[encoded data removed]",
      "text/plain": [
       "<Figure size 720x720 with 2 Axes>"
      ]
     },
     "metadata": {},
     "output_type": "display_data"
    }
   ],
   "source": [
    "corr = train[features].corr()\n",
    "plt.figure(figsize=(10,10))\n",
    "#diverging colormap\n",
    "cmap = sns.diverging_palette(220,10,as_cmap=True)\n",
    "\n",
    "# Generate a mask for the upper triangle\n",
    "mask = np.zeros_like(corr, dtype=np.bool)\n",
    "#triu_indices_from() returns the indices for the upper-triangle of arr\n",
    "mask[np.triu_indices_from(mask)] = True \n",
    "\n",
    "sns.heatmap(corr, mask=mask, cmap=cmap, center=0,\n",
    "            square=True, linewidths=.5, cbar_kws={\"shrink\": .5});"
   ]
  },
  {
   "cell_type": "markdown",
   "metadata": {},
   "source": [
    "* There is little correlation between the features, with the exception of V29 (which from the plots above, seems to have very little predictive power)\n",
    "* Note that V29 is the only variable that is in a scale thay is significantly different than the other variables (only positive values, on the order of a thousand, it could be length of stay for example).\n",
    "\n",
    "## Modeling the data\n",
    "Given the seemingly uniform distribution of the missing data, and the variable distribution plots shown above, I use simple imputation to fill the missing data\n",
    "\n",
    "### Baseline decision-tree model"
   ]
  },
  {
   "cell_type": "code",
   "execution_count": 159,
   "metadata": {},
   "outputs": [
    {
     "data": {
      "text/plain": [
       "DecisionTreeClassifier(class_weight=None, criterion='gini', max_depth=None,\n",
       "            max_features=None, max_leaf_nodes=None,\n",
       "            min_impurity_decrease=0.0, min_impurity_split=None,\n",
       "            min_samples_leaf=1, min_samples_split=2,\n",
       "            min_weight_fraction_leaf=0.0, presort=False, random_state=491,\n",
       "            splitter='best')"
      ]
     },
     "execution_count": 159,
     "metadata": {},
     "output_type": "execute_result"
    }
   ],
   "source": [
    "from sklearn import tree\n",
    "bench = tree.DecisionTreeClassifier(random_state=seed)\n",
    "#simple imputation:\n",
    "train_f=train.fillna(train.mean())\n",
    "bench.fit(train_f[features],train_f[target])"
   ]
  },
  {
   "cell_type": "code",
   "execution_count": 160,
   "metadata": {},
   "outputs": [
    {
     "name": "stdout",
     "output_type": "stream",
     "text": [
      "Maximum depth = 30\n",
      "Default score = 1.000\n",
      "Default feature importances (sorted by importance):\n",
      "V17, importance = 0.4973\n",
      "V14, importance = 0.1187\n",
      "V10, importance = 0.0461\n",
      "V27, importance = 0.0322\n",
      "V9, importance = 0.0282\n",
      "V26, importance = 0.0229\n",
      "V1, importance = 0.0218\n",
      "V16, importance = 0.0181\n",
      "V28, importance = 0.0180\n",
      "V25, importance = 0.0180\n",
      "V12, importance = 0.0165\n",
      "V20, importance = 0.0156\n",
      "V4, importance = 0.0152\n",
      "V6, importance = 0.0148\n",
      "V21, importance = 0.0147\n",
      "V29, importance = 0.0130\n",
      "V19, importance = 0.0117\n",
      "V15, importance = 0.0115\n",
      "V13, importance = 0.0097\n",
      "V11, importance = 0.0097\n",
      "V7, importance = 0.0088\n",
      "V23, importance = 0.0082\n",
      "V8, importance = 0.0061\n",
      "V24, importance = 0.0057\n",
      "V22, importance = 0.0056\n",
      "V18, importance = 0.0047\n",
      "V5, importance = 0.0044\n",
      "V3, importance = 0.0029\n",
      "V2, importance = 0.0000\n"
     ]
    }
   ],
   "source": [
    "print('Maximum depth = {}'.format(bench.tree_.max_depth))\n",
    "print('Default score = {:.3f}'.format(bench.score(train_f[features],train_f[target])))\n",
    "print('Default feature importances (sorted by importance):')\n",
    "tups=[(features[_],bench.feature_importances_[_]) for _ in range(len(features))]\n",
    "tups.sort(key=lambda x:x[1], reverse=True)\n",
    "for tup in tups:\n",
    "    print('{}, importance = {:.4f}'.format(tup[0],tup[1]))"
   ]
  },
  {
   "cell_type": "markdown",
   "metadata": {},
   "source": [
    "* Unsurprisingly the benchmark decision tree overfits the data. An interesting observation is that the top three features for the tree are in my list of variables which I expected to have more predictive power.\n",
    "* Below I use cross validation with stratified partitioning of the train dataset to find an optimal depth for a tree"
   ]
  },
  {
   "cell_type": "code",
   "execution_count": 68,
   "metadata": {},
   "outputs": [
    {
     "data": {
      "text/plain": [
       "({'max_depth': 5}, 0.8805669521429355)"
      ]
     },
     "execution_count": 68,
     "metadata": {},
     "output_type": "execute_result"
    }
   ],
   "source": [
    "from sklearn.metrics import roc_curve, auc\n",
    "from sklearn.model_selection import StratifiedKFold, GridSearchCV\n",
    "benchCV = StratifiedKFold(n_splits=6,random_state=seed)\n",
    "param_test = {\n",
    "    'max_depth':[_ for _ in range(2,30)]}#bench.tree_.max_depth\n",
    "dptSearch = GridSearchCV(\n",
    "    estimator=tree.DecisionTreeClassifier(random_state=seed),                     \n",
    "    param_grid = param_test, scoring='roc_auc',n_jobs=4,\n",
    "    iid=False, cv=benchCV,return_train_score=True)\n",
    "\n",
    "dptSearch.fit(train_f[features],train_f[target])\n",
    "dptSearch.best_params_, dptSearch.best_score_"
   ]
  },
  {
   "cell_type": "markdown",
   "metadata": {},
   "source": [
    "* The best cross-validation AUC score obtained with this tree is 88%, which is good. Below I check the ROC-AUC score on the test set, after fitting a decision tree with a maximum depth of 5 nodes:"
   ]
  },
  {
   "cell_type": "code",
   "execution_count": 156,
   "metadata": {},
   "outputs": [
    {
     "name": "stdout",
     "output_type": "stream",
     "text": [
      "Decision-tree ROC-AUC score = 0.841\n",
      "Feature importances (sorted by importance):\n",
      "V17, importance = 0.6438\n",
      "V14, importance = 0.1367\n",
      "V10, importance = 0.0514\n",
      "V27, importance = 0.0390\n",
      "V9, importance = 0.0326\n",
      "V26, importance = 0.0237\n",
      "V16, importance = 0.0212\n",
      "V20, importance = 0.0130\n",
      "V1, importance = 0.0123\n",
      "V7, importance = 0.0110\n",
      "V11, importance = 0.0065\n",
      "V12, importance = 0.0052\n",
      "V22, importance = 0.0036\n",
      "V2, importance = 0.0000\n",
      "V3, importance = 0.0000\n",
      "V4, importance = 0.0000\n",
      "V5, importance = 0.0000\n",
      "V6, importance = 0.0000\n",
      "V8, importance = 0.0000\n",
      "V13, importance = 0.0000\n",
      "V15, importance = 0.0000\n",
      "V18, importance = 0.0000\n",
      "V19, importance = 0.0000\n",
      "V21, importance = 0.0000\n",
      "V23, importance = 0.0000\n",
      "V24, importance = 0.0000\n",
      "V25, importance = 0.0000\n",
      "V28, importance = 0.0000\n",
      "V29, importance = 0.0000\n"
     ]
    }
   ],
   "source": [
    "from sklearn.metrics import roc_auc_score\n",
    "from sklearn.metrics import confusion_matrix\n",
    "bench = tree.DecisionTreeClassifier(random_state=seed,max_depth=5)\n",
    "bench.fit(train_f[features],train_f[target])\n",
    "#simple imputation of test dataset:\n",
    "test_f=test.fillna(test.mean())\n",
    "print('Decision-tree ROC-AUC score = {:.3f}'.format(roc_auc_score(test_f[target],bench.predict_proba(test_f[features])[:,1])))\n",
    "print('Feature importances (sorted by importance):')\n",
    "tups=[(features[_],bench.feature_importances_[_]) for _ in range(len(features))]\n",
    "tups.sort(key=lambda x:x[1], reverse=True)\n",
    "for tup in tups:\n",
    "    print('{}, importance = {:.4f}'.format(tup[0],tup[1]))"
   ]
  },
  {
   "cell_type": "markdown",
   "metadata": {},
   "source": [
    "* How it should be expected, the ROC-AUC score on the **test data** is lower than on cross-validation, but not by much (84% vs. 88%)\n",
    "* Note that the feature importances agree pretty well, for the most part, with the variables I highlighted in the EDA portion of this analysis\n",
    "* Below I calculate the confusion matrix for the predictions of the decision-tree model"
   ]
  },
  {
   "cell_type": "code",
   "execution_count": 119,
   "metadata": {},
   "outputs": [
    {
     "name": "stdout",
     "output_type": "stream",
     "text": [
      "\tTn\tFp\n",
      "\tFn\tTp\n"
     ]
    },
    {
     "data": {
      "text/plain": [
       "array([[85275,    20],\n",
       "       [   40,   108]])"
      ]
     },
     "execution_count": 119,
     "metadata": {},
     "output_type": "execute_result"
    }
   ],
   "source": [
    "#the confusion matrix for the prediction is below\n",
    "print('\\tTn\\tFp\\n\\tFn\\tTp')\n",
    "confusion_matrix(test_f[target],bench.predict(test_f[features]))"
   ]
  },
  {
   "cell_type": "markdown",
   "metadata": {},
   "source": [
    "* The confusion matrix above shows reasonable results as well (sensitivity: 73%, specificity: 99.9%)\n",
    "\n",
    "### Constructing a random-forest model"
   ]
  },
  {
   "cell_type": "code",
   "execution_count": 120,
   "metadata": {},
   "outputs": [
    {
     "data": {
      "text/plain": [
       "SelectFromModel(estimator=RandomForestClassifier(bootstrap=True, class_weight=None, criterion='gini',\n",
       "            max_depth=None, max_features='auto', max_leaf_nodes=None,\n",
       "            min_impurity_decrease=0.0, min_impurity_split=None,\n",
       "            min_samples_leaf=1, min_samples_split=2,\n",
       "            min_weight_fraction_leaf=0.0, n_estimators=100, n_jobs=1,\n",
       "            oob_score=False, random_state=None, verbose=0,\n",
       "            warm_start=False),\n",
       "        norm_order=1, prefit=False, threshold=None)"
      ]
     },
     "execution_count": 120,
     "metadata": {},
     "output_type": "execute_result"
    }
   ],
   "source": [
    "from sklearn.ensemble import RandomForestClassifier\n",
    "from sklearn.feature_selection import SelectFromModel #for selecting features for the model\n",
    "sel = SelectFromModel(RandomForestClassifier(n_estimators = 100))\n",
    "sel.fit(train_f[features], train_f[target])"
   ]
  },
  {
   "cell_type": "code",
   "execution_count": 121,
   "metadata": {},
   "outputs": [
    {
     "name": "stdout",
     "output_type": "stream",
     "text": [
      "The selected variables for my random forest model are: \n",
      "V10\n",
      "V11\n",
      "V12\n",
      "V14\n",
      "V16\n",
      "V17\n",
      "V18\n"
     ]
    }
   ],
   "source": [
    "selected=[features[i] for i in range(len(features)) if sel.get_support()[i]]\n",
    "print('The selected variables for my random forest model are: ')\n",
    "for _ in selected:\n",
    "    print(_)"
   ]
  },
  {
   "cell_type": "markdown",
   "metadata": {},
   "source": [
    "* Note that I listed all these variables as likely to have more predictive power in the EDA portion of the analysis\n",
    "* Below I use cross validation to find the optimal number of trees for the random forest model. "
   ]
  },
  {
   "cell_type": "code",
   "execution_count": 124,
   "metadata": {},
   "outputs": [
    {
     "data": {
      "text/plain": [
       "({'n_estimators': 76}, 0.9287610995329018)"
      ]
     },
     "execution_count": 124,
     "metadata": {},
     "output_type": "execute_result"
    }
   ],
   "source": [
    "param_test2 = {\n",
    "    'n_estimators':[_ for _ in range(2,100)]}\n",
    "forestSearch = GridSearchCV(\n",
    "    estimator=RandomForestClassifier(random_state=seed),                     \n",
    "    param_grid = param_test2, scoring='roc_auc',n_jobs=4,\n",
    "    iid=False, cv=benchCV,return_train_score=True)\n",
    "\n",
    "forestSearch.fit(train_f[selected], train_f[target])\n",
    "forestSearch.best_params_, forestSearch.best_score_"
   ]
  },
  {
   "cell_type": "markdown",
   "metadata": {},
   "source": [
    "* The best cross-validation AUC score obtained with this random-forest model is 92.9%.\n",
    "* Below I calculate the confusion matrix for the predictions of the random-forest model, on the test set:"
   ]
  },
  {
   "cell_type": "code",
   "execution_count": 140,
   "metadata": {},
   "outputs": [
    {
     "name": "stdout",
     "output_type": "stream",
     "text": [
      "\tTn\tFp\n",
      "\tFn\tTp\n"
     ]
    },
    {
     "data": {
      "text/plain": [
       "array([[85281,    14],\n",
       "       [   32,   116]])"
      ]
     },
     "execution_count": 140,
     "metadata": {},
     "output_type": "execute_result"
    }
   ],
   "source": [
    "#confusion matrix for the best forest model\n",
    "print('\\tTn\\tFp\\n\\tFn\\tTp')\n",
    "confusion_matrix(test_f[target],forestSearch.predict(test_f[selected]))"
   ]
  },
  {
   "cell_type": "markdown",
   "metadata": {},
   "source": [
    "* The random-forest model sensitivity and specificity are 78.4% and 99.9%, respectively\n",
    "\n",
    "### Conclusions\n",
    "1. The exploratory data analysis reveals several interesting trends that can be observed in the data. In particular, for a subset of features the distributions corresponding to each class of the target variable (0 or 1) are different (variables V3, V4, V9 to V12, V14, V16, V17 and V18). \n",
    "2. For a few varibles outliers in the distribution seem to correlate with belonging to class 1\n",
    "3. Missing data seems to be distributed randomly and uniformly across the data, totaling around 10% for each column.\n",
    "4. Feature importances for my decision tree model, and feature selection with a random forest model correspond well with the variables highlighted in points 1 and 2\n",
    "5. The performance of a random forest model with 76 trees improves performance with respect to my decision-tree model, decreasing both the number of false positives and false negatives (sensitivity: 78.4%, specificity: 99.9%)"
   ]
  },
  {
   "cell_type": "code",
   "execution_count": null,
   "metadata": {},
   "outputs": [],
   "source": []
  }
 ],
 "metadata": {
  "kernelspec": {
   "display_name": "Python 3",
   "language": "python",
   "name": "python3"
  },
  "language_info": {
   "codemirror_mode": {
    "name": "ipython",
    "version": 3
   },
   "file_extension": ".py",
   "mimetype": "text/x-python",
   "name": "python",
   "nbconvert_exporter": "python",
   "pygments_lexer": "ipython3",
   "version": "3.6.5"
  }
 },
 "nbformat": 4,
 "nbformat_minor": 2
}
